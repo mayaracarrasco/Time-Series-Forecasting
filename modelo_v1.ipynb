{
 "cells": [
  {
   "cell_type": "code",
   "execution_count": 1,
   "id": "a0c8dbb3",
   "metadata": {},
   "outputs": [],
   "source": [
    "# ANALISE EXPLORATORIA"
   ]
  },
  {
   "cell_type": "code",
   "execution_count": 2,
   "id": "9d9d65d0",
   "metadata": {},
   "outputs": [
    {
     "data": {
      "text/html": [
       "<div>\n",
       "<style scoped>\n",
       "    .dataframe tbody tr th:only-of-type {\n",
       "        vertical-align: middle;\n",
       "    }\n",
       "\n",
       "    .dataframe tbody tr th {\n",
       "        vertical-align: top;\n",
       "    }\n",
       "\n",
       "    .dataframe thead th {\n",
       "        text-align: right;\n",
       "    }\n",
       "</style>\n",
       "<table border=\"1\" class=\"dataframe\">\n",
       "  <thead>\n",
       "    <tr style=\"text-align: right;\">\n",
       "      <th></th>\n",
       "      <th>Production month</th>\n",
       "      <th>FR_12MIS</th>\n",
       "    </tr>\n",
       "  </thead>\n",
       "  <tbody>\n",
       "    <tr>\n",
       "      <th>0</th>\n",
       "      <td>2012-01-01</td>\n",
       "      <td>1.1204</td>\n",
       "    </tr>\n",
       "    <tr>\n",
       "      <th>1</th>\n",
       "      <td>2012-02-01</td>\n",
       "      <td>0.6338</td>\n",
       "    </tr>\n",
       "    <tr>\n",
       "      <th>2</th>\n",
       "      <td>2012-03-01</td>\n",
       "      <td>0.8232</td>\n",
       "    </tr>\n",
       "    <tr>\n",
       "      <th>3</th>\n",
       "      <td>2012-04-01</td>\n",
       "      <td>0.8967</td>\n",
       "    </tr>\n",
       "    <tr>\n",
       "      <th>4</th>\n",
       "      <td>2012-05-01</td>\n",
       "      <td>0.8333</td>\n",
       "    </tr>\n",
       "  </tbody>\n",
       "</table>\n",
       "</div>"
      ],
      "text/plain": [
       "  Production month  FR_12MIS\n",
       "0       2012-01-01    1.1204\n",
       "1       2012-02-01    0.6338\n",
       "2       2012-03-01    0.8232\n",
       "3       2012-04-01    0.8967\n",
       "4       2012-05-01    0.8333"
      ]
     },
     "execution_count": 2,
     "metadata": {},
     "output_type": "execute_result"
    }
   ],
   "source": [
    "# Importação dos dados de treinamento\n",
    "# Dados de Entrada: Tabela contendo 2 colunas, sendo a coluna 1 em formato de data  e a coluna 2 contendo o dado de taxa de falha\n",
    "\n",
    "import pandas as pd\n",
    "df = pd.read_excel(r'C:\\Users\\mayca\\Google Drive\\Especialização em Inteligência Artificial e Big Data\\TCC - Metodologia e Projeto para Inteligência Artificial e Big Data\\Módulo 4 - Resultados\\Modelo\\dados_LLD_vtrain.xlsx')\n",
    "\n",
    "df.head()"
   ]
  },
  {
   "cell_type": "code",
   "execution_count": 3,
   "id": "6a50bc38",
   "metadata": {},
   "outputs": [
    {
     "data": {
      "text/plain": [
       "(102, 2)"
      ]
     },
     "execution_count": 3,
     "metadata": {},
     "output_type": "execute_result"
    }
   ],
   "source": [
    "# Avaliação do formato da tabela\n",
    "\n",
    "df.shape"
   ]
  },
  {
   "cell_type": "code",
   "execution_count": 4,
   "id": "6ecf0956",
   "metadata": {},
   "outputs": [
    {
     "name": "stdout",
     "output_type": "stream",
     "text": [
      "<class 'pandas.core.frame.DataFrame'>\n",
      "RangeIndex: 102 entries, 0 to 101\n",
      "Data columns (total 2 columns):\n",
      " #   Column            Non-Null Count  Dtype         \n",
      "---  ------            --------------  -----         \n",
      " 0   Production month  102 non-null    datetime64[ns]\n",
      " 1   FR_12MIS          102 non-null    float64       \n",
      "dtypes: datetime64[ns](1), float64(1)\n",
      "memory usage: 1.7 KB\n"
     ]
    }
   ],
   "source": [
    "# Avaliação do tipo de dado e quantidade de registros não nulos na tabela\n",
    "\n",
    "df.info()"
   ]
  },
  {
   "cell_type": "code",
   "execution_count": 5,
   "id": "338289df",
   "metadata": {},
   "outputs": [
    {
     "data": {
      "text/html": [
       "<div>\n",
       "<style scoped>\n",
       "    .dataframe tbody tr th:only-of-type {\n",
       "        vertical-align: middle;\n",
       "    }\n",
       "\n",
       "    .dataframe tbody tr th {\n",
       "        vertical-align: top;\n",
       "    }\n",
       "\n",
       "    .dataframe thead th {\n",
       "        text-align: right;\n",
       "    }\n",
       "</style>\n",
       "<table border=\"1\" class=\"dataframe\">\n",
       "  <thead>\n",
       "    <tr style=\"text-align: right;\">\n",
       "      <th></th>\n",
       "      <th>FR_12MIS</th>\n",
       "    </tr>\n",
       "  </thead>\n",
       "  <tbody>\n",
       "    <tr>\n",
       "      <th>count</th>\n",
       "      <td>102.000000</td>\n",
       "    </tr>\n",
       "    <tr>\n",
       "      <th>mean</th>\n",
       "      <td>0.572850</td>\n",
       "    </tr>\n",
       "    <tr>\n",
       "      <th>std</th>\n",
       "      <td>0.173000</td>\n",
       "    </tr>\n",
       "    <tr>\n",
       "      <th>min</th>\n",
       "      <td>0.338500</td>\n",
       "    </tr>\n",
       "    <tr>\n",
       "      <th>25%</th>\n",
       "      <td>0.444225</td>\n",
       "    </tr>\n",
       "    <tr>\n",
       "      <th>50%</th>\n",
       "      <td>0.535700</td>\n",
       "    </tr>\n",
       "    <tr>\n",
       "      <th>75%</th>\n",
       "      <td>0.642325</td>\n",
       "    </tr>\n",
       "    <tr>\n",
       "      <th>max</th>\n",
       "      <td>1.372500</td>\n",
       "    </tr>\n",
       "  </tbody>\n",
       "</table>\n",
       "</div>"
      ],
      "text/plain": [
       "         FR_12MIS\n",
       "count  102.000000\n",
       "mean     0.572850\n",
       "std      0.173000\n",
       "min      0.338500\n",
       "25%      0.444225\n",
       "50%      0.535700\n",
       "75%      0.642325\n",
       "max      1.372500"
      ]
     },
     "execution_count": 5,
     "metadata": {},
     "output_type": "execute_result"
    }
   ],
   "source": [
    "# Avalição das principais métricas de estatística descritiva\n",
    "\n",
    "df.describe()"
   ]
  },
  {
   "cell_type": "code",
   "execution_count": 6,
   "id": "839d727e",
   "metadata": {},
   "outputs": [
    {
     "name": "stdout",
     "output_type": "stream",
     "text": [
      "Média:\n"
     ]
    },
    {
     "data": {
      "text/plain": [
       "0.5728500000000003"
      ]
     },
     "execution_count": 6,
     "metadata": {},
     "output_type": "execute_result"
    }
   ],
   "source": [
    "# Cálculo da Média\n",
    "\n",
    "print('Média:')\n",
    "df['FR_12MIS'].mean()"
   ]
  },
  {
   "cell_type": "code",
   "execution_count": 7,
   "id": "d4abeca2",
   "metadata": {},
   "outputs": [
    {
     "name": "stdout",
     "output_type": "stream",
     "text": [
      "Variância:\n"
     ]
    },
    {
     "data": {
      "text/plain": [
       "0.029928986089108926"
      ]
     },
     "execution_count": 7,
     "metadata": {},
     "output_type": "execute_result"
    }
   ],
   "source": [
    "# Cálculo da Variância\n",
    "\n",
    "print('Variância:')\n",
    "df['FR_12MIS'].var()"
   ]
  },
  {
   "cell_type": "code",
   "execution_count": 8,
   "id": "da1d71dd",
   "metadata": {},
   "outputs": [
    {
     "name": "stdout",
     "output_type": "stream",
     "text": [
      "Obliquidade:\n"
     ]
    },
    {
     "data": {
      "text/plain": [
       "1.776193561244715"
      ]
     },
     "execution_count": 8,
     "metadata": {},
     "output_type": "execute_result"
    }
   ],
   "source": [
    "# Cálculo da Obliquidade\n",
    "\n",
    "print('Obliquidade:')\n",
    "df['FR_12MIS'].skew()"
   ]
  },
  {
   "cell_type": "code",
   "execution_count": 9,
   "id": "ffd089fb",
   "metadata": {},
   "outputs": [
    {
     "name": "stdout",
     "output_type": "stream",
     "text": [
      "Kurtosis:\n"
     ]
    },
    {
     "data": {
      "text/plain": [
       "4.848870308078913"
      ]
     },
     "execution_count": 9,
     "metadata": {},
     "output_type": "execute_result"
    }
   ],
   "source": [
    "# Cálculo de Kurtosis\n",
    "\n",
    "print('Kurtosis:')\n",
    "df['FR_12MIS'].kurtosis()"
   ]
  },
  {
   "cell_type": "code",
   "execution_count": 10,
   "id": "c8ce3fb7",
   "metadata": {},
   "outputs": [
    {
     "name": "stderr",
     "output_type": "stream",
     "text": [
      "C:\\Users\\mayca\\anaconda3\\lib\\site-packages\\scipy\\__init__.py:138: UserWarning: A NumPy version >=1.16.5 and <1.23.0 is required for this version of SciPy (detected version 1.23.1)\n",
      "  warnings.warn(f\"A NumPy version >={np_minversion} and <{np_maxversion} is required for this version of \"\n"
     ]
    },
    {
     "name": "stdout",
     "output_type": "stream",
     "text": [
      "Teste de Normalidade de Kolmogorov-Smirnov:\n",
      "KstestResult(statistic=0.3385, pvalue=6.252386906975894e-11)\n"
     ]
    }
   ],
   "source": [
    "# Avaliação do Teste Estatístico de Normalidade de Kolmogorov-Smirnov\n",
    "\n",
    "from scipy.stats import kstest\n",
    "result_KSTest = kstest(df['FR_12MIS'],\"uniform\")\n",
    "\n",
    "print('Teste de Normalidade de Kolmogorov-Smirnov:')\n",
    "print(result_KSTest)"
   ]
  },
  {
   "cell_type": "code",
   "execution_count": 11,
   "id": "2dc8fc1a",
   "metadata": {},
   "outputs": [
    {
     "data": {
      "text/html": [
       "<div>\n",
       "<style scoped>\n",
       "    .dataframe tbody tr th:only-of-type {\n",
       "        vertical-align: middle;\n",
       "    }\n",
       "\n",
       "    .dataframe tbody tr th {\n",
       "        vertical-align: top;\n",
       "    }\n",
       "\n",
       "    .dataframe thead th {\n",
       "        text-align: right;\n",
       "    }\n",
       "</style>\n",
       "<table border=\"1\" class=\"dataframe\">\n",
       "  <thead>\n",
       "    <tr style=\"text-align: right;\">\n",
       "      <th></th>\n",
       "      <th>Month</th>\n",
       "      <th>FR_2012</th>\n",
       "      <th>FR_2013</th>\n",
       "      <th>FR_2014</th>\n",
       "      <th>FR_2015</th>\n",
       "      <th>FR_2016</th>\n",
       "      <th>FR_2017</th>\n",
       "      <th>FR_2018</th>\n",
       "      <th>FR_2019</th>\n",
       "    </tr>\n",
       "  </thead>\n",
       "  <tbody>\n",
       "    <tr>\n",
       "      <th>0</th>\n",
       "      <td>Jan</td>\n",
       "      <td>1.1204</td>\n",
       "      <td>0.6549</td>\n",
       "      <td>0.5843</td>\n",
       "      <td>0.4829</td>\n",
       "      <td>0.5049</td>\n",
       "      <td>0.6235</td>\n",
       "      <td>0.4306</td>\n",
       "      <td>0.5137</td>\n",
       "    </tr>\n",
       "    <tr>\n",
       "      <th>1</th>\n",
       "      <td>Feb</td>\n",
       "      <td>0.6338</td>\n",
       "      <td>0.6308</td>\n",
       "      <td>0.5751</td>\n",
       "      <td>0.6034</td>\n",
       "      <td>0.4395</td>\n",
       "      <td>0.6972</td>\n",
       "      <td>0.4552</td>\n",
       "      <td>0.3904</td>\n",
       "    </tr>\n",
       "    <tr>\n",
       "      <th>2</th>\n",
       "      <td>Mar</td>\n",
       "      <td>0.8232</td>\n",
       "      <td>0.6716</td>\n",
       "      <td>0.5560</td>\n",
       "      <td>0.5537</td>\n",
       "      <td>0.7207</td>\n",
       "      <td>0.6574</td>\n",
       "      <td>0.4742</td>\n",
       "      <td>0.4361</td>\n",
       "    </tr>\n",
       "    <tr>\n",
       "      <th>3</th>\n",
       "      <td>Apr</td>\n",
       "      <td>0.8967</td>\n",
       "      <td>0.6119</td>\n",
       "      <td>0.6435</td>\n",
       "      <td>0.7209</td>\n",
       "      <td>0.5089</td>\n",
       "      <td>0.5073</td>\n",
       "      <td>0.6171</td>\n",
       "      <td>0.4399</td>\n",
       "    </tr>\n",
       "    <tr>\n",
       "      <th>4</th>\n",
       "      <td>May</td>\n",
       "      <td>0.8333</td>\n",
       "      <td>0.6330</td>\n",
       "      <td>0.6584</td>\n",
       "      <td>0.6877</td>\n",
       "      <td>0.4387</td>\n",
       "      <td>0.6020</td>\n",
       "      <td>0.5808</td>\n",
       "      <td>0.3448</td>\n",
       "    </tr>\n",
       "  </tbody>\n",
       "</table>\n",
       "</div>"
      ],
      "text/plain": [
       "  Month  FR_2012  FR_2013  FR_2014  FR_2015  FR_2016  FR_2017  FR_2018  \\\n",
       "0   Jan   1.1204   0.6549   0.5843   0.4829   0.5049   0.6235   0.4306   \n",
       "1   Feb   0.6338   0.6308   0.5751   0.6034   0.4395   0.6972   0.4552   \n",
       "2   Mar   0.8232   0.6716   0.5560   0.5537   0.7207   0.6574   0.4742   \n",
       "3   Apr   0.8967   0.6119   0.6435   0.7209   0.5089   0.5073   0.6171   \n",
       "4   May   0.8333   0.6330   0.6584   0.6877   0.4387   0.6020   0.5808   \n",
       "\n",
       "   FR_2019  \n",
       "0   0.5137  \n",
       "1   0.3904  \n",
       "2   0.4361  \n",
       "3   0.4399  \n",
       "4   0.3448  "
      ]
     },
     "execution_count": 11,
     "metadata": {},
     "output_type": "execute_result"
    }
   ],
   "source": [
    "# Separação do Conjunto de Treinamento em uma nova tabela contendo os meses de produção nas linhas e a taxa de falha cálculo para o respectivo nas colunas\n",
    "\n",
    "da = pd.read_excel(r'C:\\Users\\mayca\\Google Drive\\Especialização em Inteligência Artificial e Big Data\\TCC - Metodologia e Projeto para Inteligência Artificial e Big Data\\Módulo 4 - Resultados\\Modelo\\dados_LLD_vanuais.xlsx')\n",
    "\n",
    "da.head()"
   ]
  },
  {
   "cell_type": "code",
   "execution_count": 12,
   "id": "be283f74",
   "metadata": {},
   "outputs": [
    {
     "name": "stdout",
     "output_type": "stream",
     "text": [
      "Teste de Sazonalidade de Kruskal-Wallis 2012-2019:\n",
      "KruskalResult(statistic=57.824312714776624, pvalue=4.098002511417409e-10)\n"
     ]
    }
   ],
   "source": [
    "# Avaliação do Teste Estatístico de Sazonalidade de Kruskal-Wallis para todo o período avaliado (8 anos)\n",
    "\n",
    "from scipy.stats import kruskal\n",
    "result_KWTest = kruskal(da['FR_2012'],da['FR_2013'],da['FR_2014'],da['FR_2015'],da['FR_2016'],da['FR_2017'],da['FR_2018'],da['FR_2019'])\n",
    "\n",
    "print('Teste de Sazonalidade de Kruskal-Wallis 2012-2019:')\n",
    "print(result_KWTest)"
   ]
  },
  {
   "cell_type": "code",
   "execution_count": 13,
   "id": "e2a85a50",
   "metadata": {},
   "outputs": [
    {
     "name": "stdout",
     "output_type": "stream",
     "text": [
      "Teste de Sazonalidade de Kruskal-Wallis 2012-2015:\n",
      "KruskalResult(statistic=14.343537414965937, pvalue=0.0024729461149271322)\n"
     ]
    }
   ],
   "source": [
    "# Avaliação do Teste Estatístico de Sazonalidade de Kruskal-Wallis para uma seção do período (4 anos iniciais)\n",
    "\n",
    "from scipy.stats import kruskal\n",
    "result_KWTest = kruskal(da['FR_2012'],da['FR_2013'],da['FR_2014'],da['FR_2015'])\n",
    "\n",
    "print('Teste de Sazonalidade de Kruskal-Wallis 2012-2015:')\n",
    "print(result_KWTest)"
   ]
  },
  {
   "cell_type": "code",
   "execution_count": 14,
   "id": "aae14eab",
   "metadata": {},
   "outputs": [
    {
     "name": "stdout",
     "output_type": "stream",
     "text": [
      "Teste de Sazonalidade de Kruskal-Wallis 2016-2019:\n",
      "KruskalResult(statistic=25.454931972789097, pvalue=1.24025600630827e-05)\n"
     ]
    }
   ],
   "source": [
    "# Avaliação do Teste Estatístico de Sazonalidade de Kruskal-Wallis para outra seção do período (4 anos finais)\n",
    "\n",
    "from scipy.stats import kruskal\n",
    "result_KWTest = kruskal(da['FR_2016'],da['FR_2017'],da['FR_2018'],da['FR_2019'])\n",
    "\n",
    "print('Teste de Sazonalidade de Kruskal-Wallis 2016-2019:')\n",
    "print(result_KWTest)"
   ]
  },
  {
   "cell_type": "code",
   "execution_count": 15,
   "id": "dae926d1",
   "metadata": {},
   "outputs": [],
   "source": [
    "# pip install pymannkendall"
   ]
  },
  {
   "cell_type": "code",
   "execution_count": 16,
   "id": "42a89c03",
   "metadata": {},
   "outputs": [
    {
     "name": "stdout",
     "output_type": "stream",
     "text": [
      "Teste de Tendência de Mann-Kendall:\n"
     ]
    },
    {
     "data": {
      "text/plain": [
       "Mann_Kendall_Test(trend='decreasing', h=True, p=2.9976021664879227e-14, z=-7.598497022269172, Tau=-0.5103863327509222, s=-2629.0, var_s=119617.66666666667, slope=-0.0030945945945945945, intercept=0.6919770270270271)"
      ]
     },
     "execution_count": 16,
     "metadata": {},
     "output_type": "execute_result"
    }
   ],
   "source": [
    "# Avaliação do Teste Estatístico de Tendência de Mann-Kendall\n",
    "\n",
    "import pymannkendall as mk\n",
    "\n",
    "print('Teste de Tendência de Mann-Kendall:')\n",
    "mk.original_test(df['FR_12MIS'])"
   ]
  },
  {
   "cell_type": "code",
   "execution_count": 17,
   "id": "f1a01a9b",
   "metadata": {},
   "outputs": [],
   "source": [
    "# pip install statsmodels"
   ]
  },
  {
   "cell_type": "code",
   "execution_count": 18,
   "id": "dec4851f",
   "metadata": {},
   "outputs": [
    {
     "name": "stdout",
     "output_type": "stream",
     "text": [
      "Teste de Estacionariedade de Dickey-Fuller:\n"
     ]
    },
    {
     "data": {
      "text/plain": [
       "(-3.1156830703319502,\n",
       " 0.025414131764921633,\n",
       " 1,\n",
       " 100,\n",
       " {'1%': -3.497501033, '5%': -2.89090644, '10%': -2.5824349},\n",
       " -155.1285085635319)"
      ]
     },
     "execution_count": 18,
     "metadata": {},
     "output_type": "execute_result"
    }
   ],
   "source": [
    "# Avaliação do Teste Estatístico de Estacionariedade de Dickey-Fuller\n",
    "\n",
    "from statsmodels.tsa.stattools import adfuller\n",
    "\n",
    "print('Teste de Estacionariedade de Dickey-Fuller:')\n",
    "adfuller(df['FR_12MIS'])"
   ]
  },
  {
   "cell_type": "code",
   "execution_count": 19,
   "id": "9247ee31",
   "metadata": {},
   "outputs": [],
   "source": [
    "# IMPLEMENTAÇÃO DO MODELO ARIMA"
   ]
  },
  {
   "cell_type": "code",
   "execution_count": 20,
   "id": "d222dbe8",
   "metadata": {},
   "outputs": [],
   "source": [
    "# Escolhendo parametros do modelo ARIMA"
   ]
  },
  {
   "cell_type": "code",
   "execution_count": 21,
   "id": "590658d4",
   "metadata": {},
   "outputs": [
    {
     "data": {
      "image/png": "[encoded data removed]",
      "text/plain": [
       "<Figure size 432x288 with 1 Axes>"
      ]
     },
     "execution_count": 21,
     "metadata": {},
     "output_type": "execute_result"
    },
    {
     "data": {
      "image/png": "[encoded data removed]",
      "text/plain": [
       "<Figure size 432x288 with 1 Axes>"
      ]
     },
     "metadata": {
      "needs_background": "light"
     },
     "output_type": "display_data"
    }
   ],
   "source": [
    "from statsmodels.graphics.tsaplots import plot_acf\n",
    "plot_acf(df['FR_12MIS'])"
   ]
  },
  {
   "cell_type": "code",
   "execution_count": 22,
   "id": "53c54c53",
   "metadata": {},
   "outputs": [
    {
     "data": {
      "image/png": "[encoded data removed]",
      "text/plain": [
       "<Figure size 432x288 with 2 Axes>"
      ]
     },
     "metadata": {
      "needs_background": "light"
     },
     "output_type": "display_data"
    }
   ],
   "source": [
    "import matplotlib.pyplot as plt\n",
    "from statsmodels.graphics.tsaplots import plot_pacf\n",
    "\n",
    "f = plt.figure()\n",
    "ax1 = f.add_subplot(121)\n",
    "ax1.set_title('1st Order Differencing')\n",
    "ax1.plot(df['FR_12MIS'].diff())\n",
    "\n",
    "ax2 = f.add_subplot(122)\n",
    "plot_pacf(df['FR_12MIS'].diff().dropna(),ax=ax2)\n",
    "\n",
    "plt.show()"
   ]
  },
  {
   "cell_type": "code",
   "execution_count": 23,
   "id": "7396a858",
   "metadata": {},
   "outputs": [
    {
     "data": {
      "image/png": "[encoded data removed]",
      "text/plain": [
       "<Figure size 432x288 with 2 Axes>"
      ]
     },
     "metadata": {
      "needs_background": "light"
     },
     "output_type": "display_data"
    }
   ],
   "source": [
    "g = plt.figure()\n",
    "ax1 = g.add_subplot(121)\n",
    "ax1.set_title('2nd Order Differencing')\n",
    "ax1.plot(df['FR_12MIS'].diff().diff())\n",
    "\n",
    "ax2 = g.add_subplot(122)\n",
    "plot_pacf(df['FR_12MIS'].diff().diff().dropna(),ax=ax2)\n",
    "\n",
    "plt.show()"
   ]
  },
  {
   "cell_type": "code",
   "execution_count": 24,
   "id": "873ff509",
   "metadata": {},
   "outputs": [],
   "source": [
    "# Treinando o modelo ARIMA"
   ]
  },
  {
   "cell_type": "code",
   "execution_count": 25,
   "id": "b6a48455",
   "metadata": {},
   "outputs": [
    {
     "name": "stdout",
     "output_type": "stream",
     "text": [
      "                             ARIMA Model Results                              \n",
      "==============================================================================\n",
      "Dep. Variable:             D.FR_12MIS   No. Observations:                  101\n",
      "Model:                 ARIMA(0, 1, 2)   Log Likelihood                  69.066\n",
      "Method:                       css-mle   S.D. of innovations              0.122\n",
      "Date:                Tue, 09 Aug 2022   AIC                           -130.131\n",
      "Time:                        20:32:02   BIC                           -119.671\n",
      "Sample:                             1   HQIC                          -125.897\n",
      "                                                                              \n",
      "====================================================================================\n",
      "                       coef    std err          z      P>|z|      [0.025      0.975]\n",
      "------------------------------------------------------------------------------------\n",
      "const               -0.0048      0.003     -1.396      0.163      -0.012       0.002\n",
      "ma.L1.D.FR_12MIS    -0.6099      0.097     -6.259      0.000      -0.801      -0.419\n",
      "ma.L2.D.FR_12MIS    -0.1158      0.098     -1.179      0.238      -0.308       0.077\n",
      "                                    Roots                                    \n",
      "=============================================================================\n",
      "                  Real          Imaginary           Modulus         Frequency\n",
      "-----------------------------------------------------------------------------\n",
      "MA.1            1.3124           +0.0000j            1.3124            0.0000\n",
      "MA.2           -6.5785           +0.0000j            6.5785            0.5000\n",
      "-----------------------------------------------------------------------------\n"
     ]
    },
    {
     "name": "stderr",
     "output_type": "stream",
     "text": [
      "C:\\Users\\mayca\\anaconda3\\lib\\site-packages\\statsmodels\\tsa\\arima_model.py:472: FutureWarning: \n",
      "statsmodels.tsa.arima_model.ARMA and statsmodels.tsa.arima_model.ARIMA have\n",
      "been deprecated in favor of statsmodels.tsa.arima.model.ARIMA (note the .\n",
      "between arima and model) and\n",
      "statsmodels.tsa.SARIMAX. These will be removed after the 0.12 release.\n",
      "\n",
      "statsmodels.tsa.arima.model.ARIMA makes use of the statespace framework and\n",
      "is both well tested and maintained.\n",
      "\n",
      "To silence this warning and continue using ARMA and ARIMA until they are\n",
      "removed, use:\n",
      "\n",
      "import warnings\n",
      "warnings.filterwarnings('ignore', 'statsmodels.tsa.arima_model.ARMA',\n",
      "                        FutureWarning)\n",
      "warnings.filterwarnings('ignore', 'statsmodels.tsa.arima_model.ARIMA',\n",
      "                        FutureWarning)\n",
      "\n",
      "  warnings.warn(ARIMA_DEPRECATION_WARN, FutureWarning)\n"
     ]
    }
   ],
   "source": [
    "from statsmodels.tsa.arima_model import ARIMA\n",
    "\n",
    "arima_model = ARIMA(df['FR_12MIS'],order=(0,1,2))\n",
    "model = arima_model.fit()\n",
    "print(model.summary())"
   ]
  },
  {
   "cell_type": "code",
   "execution_count": 26,
   "id": "225e598e",
   "metadata": {},
   "outputs": [],
   "source": [
    "# Testando o modelo ARIMA"
   ]
  },
  {
   "cell_type": "code",
   "execution_count": 27,
   "id": "b857686f",
   "metadata": {},
   "outputs": [
    {
     "data": {
      "text/html": [
       "<div>\n",
       "<style scoped>\n",
       "    .dataframe tbody tr th:only-of-type {\n",
       "        vertical-align: middle;\n",
       "    }\n",
       "\n",
       "    .dataframe tbody tr th {\n",
       "        vertical-align: top;\n",
       "    }\n",
       "\n",
       "    .dataframe thead th {\n",
       "        text-align: right;\n",
       "    }\n",
       "</style>\n",
       "<table border=\"1\" class=\"dataframe\">\n",
       "  <thead>\n",
       "    <tr style=\"text-align: right;\">\n",
       "      <th></th>\n",
       "      <th>Production month</th>\n",
       "      <th>FR_12MIS</th>\n",
       "    </tr>\n",
       "  </thead>\n",
       "  <tbody>\n",
       "    <tr>\n",
       "      <th>0</th>\n",
       "      <td>2020-07-01</td>\n",
       "      <td>0.5495</td>\n",
       "    </tr>\n",
       "    <tr>\n",
       "      <th>1</th>\n",
       "      <td>2020-08-01</td>\n",
       "      <td>0.4526</td>\n",
       "    </tr>\n",
       "    <tr>\n",
       "      <th>2</th>\n",
       "      <td>2020-09-01</td>\n",
       "      <td>0.4456</td>\n",
       "    </tr>\n",
       "    <tr>\n",
       "      <th>3</th>\n",
       "      <td>2020-10-01</td>\n",
       "      <td>0.5163</td>\n",
       "    </tr>\n",
       "    <tr>\n",
       "      <th>4</th>\n",
       "      <td>2020-11-01</td>\n",
       "      <td>0.4812</td>\n",
       "    </tr>\n",
       "  </tbody>\n",
       "</table>\n",
       "</div>"
      ],
      "text/plain": [
       "  Production month  FR_12MIS\n",
       "0       2020-07-01    0.5495\n",
       "1       2020-08-01    0.4526\n",
       "2       2020-09-01    0.4456\n",
       "3       2020-10-01    0.5163\n",
       "4       2020-11-01    0.4812"
      ]
     },
     "execution_count": 27,
     "metadata": {},
     "output_type": "execute_result"
    }
   ],
   "source": [
    "# Importação dos dados de teste\n",
    "# Dados de Entrada: Tabela contendo 2 colunas, sendo a coluna 1 em formato de data  e a coluna 2 contendo o dado de taxa de falha\n",
    "\n",
    "df_test = pd.read_excel(r'C:\\Users\\mayca\\Google Drive\\Especialização em Inteligência Artificial e Big Data\\TCC - Metodologia e Projeto para Inteligência Artificial e Big Data\\Módulo 4 - Resultados\\Modelo\\dados_LLD_vtest.xlsx')\n",
    "\n",
    "df_test.head()"
   ]
  },
  {
   "cell_type": "code",
   "execution_count": 78,
   "id": "a65f305e",
   "metadata": {},
   "outputs": [
    {
     "data": {
      "text/html": [
       "<div>\n",
       "<style scoped>\n",
       "    .dataframe tbody tr th:only-of-type {\n",
       "        vertical-align: middle;\n",
       "    }\n",
       "\n",
       "    .dataframe tbody tr th {\n",
       "        vertical-align: top;\n",
       "    }\n",
       "\n",
       "    .dataframe thead th {\n",
       "        text-align: right;\n",
       "    }\n",
       "</style>\n",
       "<table border=\"1\" class=\"dataframe\">\n",
       "  <thead>\n",
       "    <tr style=\"text-align: right;\">\n",
       "      <th></th>\n",
       "      <th>FR_12MIS</th>\n",
       "      <th>ARIMA</th>\n",
       "    </tr>\n",
       "    <tr>\n",
       "      <th>Production month</th>\n",
       "      <th></th>\n",
       "      <th></th>\n",
       "    </tr>\n",
       "  </thead>\n",
       "  <tbody>\n",
       "    <tr>\n",
       "      <th>2020-07-01</th>\n",
       "      <td>0.5495</td>\n",
       "      <td>0.443011</td>\n",
       "    </tr>\n",
       "    <tr>\n",
       "      <th>2020-08-01</th>\n",
       "      <td>0.4526</td>\n",
       "      <td>0.423266</td>\n",
       "    </tr>\n",
       "    <tr>\n",
       "      <th>2020-09-01</th>\n",
       "      <td>0.4456</td>\n",
       "      <td>0.418481</td>\n",
       "    </tr>\n",
       "    <tr>\n",
       "      <th>2020-10-01</th>\n",
       "      <td>0.5163</td>\n",
       "      <td>0.413697</td>\n",
       "    </tr>\n",
       "    <tr>\n",
       "      <th>2020-11-01</th>\n",
       "      <td>0.4812</td>\n",
       "      <td>0.408913</td>\n",
       "    </tr>\n",
       "  </tbody>\n",
       "</table>\n",
       "</div>"
      ],
      "text/plain": [
       "                  FR_12MIS     ARIMA\n",
       "Production month                    \n",
       "2020-07-01          0.5495  0.443011\n",
       "2020-08-01          0.4526  0.423266\n",
       "2020-09-01          0.4456  0.418481\n",
       "2020-10-01          0.5163  0.413697\n",
       "2020-11-01          0.4812  0.408913"
      ]
     },
     "execution_count": 78,
     "metadata": {},
     "output_type": "execute_result"
    }
   ],
   "source": [
    "y_ARIMA = pd.Series(model.forecast(24)[0],index=df_test['FR_12MIS'].index)\n",
    "y_true = df_test['FR_12MIS']\n",
    "\n",
    "# Criando uma tabela de resultados contendo os dados observados e o resultado da predição a partir do modelo ARIMA\n",
    "\n",
    "df_test_results = df_test.copy(deep=True)\n",
    "df_test_results['ARIMA'] = y_ARIMA\n",
    "df_test_results.head()"
   ]
  },
  {
   "cell_type": "code",
   "execution_count": 29,
   "id": "95e0e6ac",
   "metadata": {},
   "outputs": [],
   "source": [
    "# Avaliação de Desempenho do Modelo ARIMA"
   ]
  },
  {
   "cell_type": "code",
   "execution_count": 30,
   "id": "289cb1ae",
   "metadata": {},
   "outputs": [
    {
     "name": "stdout",
     "output_type": "stream",
     "text": [
      "Mean absolute percentage error - mape: 3.1195206345819044\n",
      "Mean absolute error - mae: 0.13403621422860734\n",
      "Mean percentage error - mpe: 2.8262176400884527\n",
      "Root mean square error - rmse: 0.16604111207781846\n",
      "Correlation coeficient: 0.73791366979466\n"
     ]
    }
   ],
   "source": [
    "import numpy as np\n",
    "\n",
    "mape = np.mean(np.abs(y_ARIMA - y_true)/np.abs(y_true))\n",
    "mae = np.mean(np.abs(y_ARIMA - y_true))\n",
    "mpe = np.mean((y_ARIMA - y_true)/y_true)\n",
    "rmse = np.mean((y_ARIMA - y_true)**2)**.5\n",
    "corr = np.corrcoef(y_ARIMA, y_true)[0,1]\n",
    "\n",
    "print('Mean absolute percentage error - mape:', mape)\n",
    "print('Mean absolute error - mae:', mae)\n",
    "print('Mean percentage error - mpe:', mpe)\n",
    "print('Root mean square error - rmse:', rmse)\n",
    "print('Correlation coeficient:', corr)"
   ]
  },
  {
   "cell_type": "code",
   "execution_count": 31,
   "id": "eee8eacd",
   "metadata": {},
   "outputs": [],
   "source": [
    "# IMPLEMENTAÇÃO DO MODELO LSTM"
   ]
  },
  {
   "cell_type": "code",
   "execution_count": 32,
   "id": "5c26ef22",
   "metadata": {},
   "outputs": [
    {
     "data": {
      "text/html": [
       "<div>\n",
       "<style scoped>\n",
       "    .dataframe tbody tr th:only-of-type {\n",
       "        vertical-align: middle;\n",
       "    }\n",
       "\n",
       "    .dataframe tbody tr th {\n",
       "        vertical-align: top;\n",
       "    }\n",
       "\n",
       "    .dataframe thead th {\n",
       "        text-align: right;\n",
       "    }\n",
       "</style>\n",
       "<table border=\"1\" class=\"dataframe\">\n",
       "  <thead>\n",
       "    <tr style=\"text-align: right;\">\n",
       "      <th></th>\n",
       "      <th>FR_12MIS</th>\n",
       "    </tr>\n",
       "    <tr>\n",
       "      <th>Production month</th>\n",
       "      <th></th>\n",
       "    </tr>\n",
       "  </thead>\n",
       "  <tbody>\n",
       "    <tr>\n",
       "      <th>2012-01-01</th>\n",
       "      <td>1.1204</td>\n",
       "    </tr>\n",
       "    <tr>\n",
       "      <th>2012-02-01</th>\n",
       "      <td>0.6338</td>\n",
       "    </tr>\n",
       "    <tr>\n",
       "      <th>2012-03-01</th>\n",
       "      <td>0.8232</td>\n",
       "    </tr>\n",
       "    <tr>\n",
       "      <th>2012-04-01</th>\n",
       "      <td>0.8967</td>\n",
       "    </tr>\n",
       "    <tr>\n",
       "      <th>2012-05-01</th>\n",
       "      <td>0.8333</td>\n",
       "    </tr>\n",
       "  </tbody>\n",
       "</table>\n",
       "</div>"
      ],
      "text/plain": [
       "                  FR_12MIS\n",
       "Production month          \n",
       "2012-01-01          1.1204\n",
       "2012-02-01          0.6338\n",
       "2012-03-01          0.8232\n",
       "2012-04-01          0.8967\n",
       "2012-05-01          0.8333"
      ]
     },
     "execution_count": 32,
     "metadata": {},
     "output_type": "execute_result"
    }
   ],
   "source": [
    "df=df.set_index(\"Production month\")\n",
    "df.head()"
   ]
  },
  {
   "cell_type": "code",
   "execution_count": 33,
   "id": "061fdc5b",
   "metadata": {},
   "outputs": [
    {
     "data": {
      "text/html": [
       "<div>\n",
       "<style scoped>\n",
       "    .dataframe tbody tr th:only-of-type {\n",
       "        vertical-align: middle;\n",
       "    }\n",
       "\n",
       "    .dataframe tbody tr th {\n",
       "        vertical-align: top;\n",
       "    }\n",
       "\n",
       "    .dataframe thead th {\n",
       "        text-align: right;\n",
       "    }\n",
       "</style>\n",
       "<table border=\"1\" class=\"dataframe\">\n",
       "  <thead>\n",
       "    <tr style=\"text-align: right;\">\n",
       "      <th></th>\n",
       "      <th>FR_12MIS</th>\n",
       "    </tr>\n",
       "    <tr>\n",
       "      <th>Production month</th>\n",
       "      <th></th>\n",
       "    </tr>\n",
       "  </thead>\n",
       "  <tbody>\n",
       "    <tr>\n",
       "      <th>2020-07-01</th>\n",
       "      <td>0.5495</td>\n",
       "    </tr>\n",
       "    <tr>\n",
       "      <th>2020-08-01</th>\n",
       "      <td>0.4526</td>\n",
       "    </tr>\n",
       "    <tr>\n",
       "      <th>2020-09-01</th>\n",
       "      <td>0.4456</td>\n",
       "    </tr>\n",
       "    <tr>\n",
       "      <th>2020-10-01</th>\n",
       "      <td>0.5163</td>\n",
       "    </tr>\n",
       "    <tr>\n",
       "      <th>2020-11-01</th>\n",
       "      <td>0.4812</td>\n",
       "    </tr>\n",
       "  </tbody>\n",
       "</table>\n",
       "</div>"
      ],
      "text/plain": [
       "                  FR_12MIS\n",
       "Production month          \n",
       "2020-07-01          0.5495\n",
       "2020-08-01          0.4526\n",
       "2020-09-01          0.4456\n",
       "2020-10-01          0.5163\n",
       "2020-11-01          0.4812"
      ]
     },
     "execution_count": 33,
     "metadata": {},
     "output_type": "execute_result"
    }
   ],
   "source": [
    "df_test=df_test.set_index(\"Production month\")\n",
    "df_test.head()"
   ]
  },
  {
   "cell_type": "code",
   "execution_count": null,
   "id": "a143e613",
   "metadata": {},
   "outputs": [],
   "source": [
    "# Treinando o modelo LSTM"
   ]
  },
  {
   "cell_type": "code",
   "execution_count": 34,
   "id": "bfcc9518",
   "metadata": {},
   "outputs": [],
   "source": [
    "train_data = df\n",
    "test_data = df_test"
   ]
  },
  {
   "cell_type": "code",
   "execution_count": 35,
   "id": "ffd49e38",
   "metadata": {},
   "outputs": [],
   "source": [
    "from sklearn.preprocessing import MinMaxScaler\n",
    "scaler = MinMaxScaler()\n",
    "\n",
    "scaler.fit(train_data)\n",
    "scaled_train_data = scaler.transform(train_data)\n",
    "scaled_test_data = scaler.transform(test_data)"
   ]
  },
  {
   "cell_type": "code",
   "execution_count": 36,
   "id": "865678b7",
   "metadata": {},
   "outputs": [],
   "source": [
    "import tensorflow as tf\n",
    "\n",
    "# fix random seed for reproducibility\n",
    "tf.random.set_seed(7)"
   ]
  },
  {
   "cell_type": "code",
   "execution_count": 37,
   "id": "50963588",
   "metadata": {},
   "outputs": [
    {
     "name": "stdout",
     "output_type": "stream",
     "text": [
      "Model: \"sequential\"\n",
      "_________________________________________________________________\n",
      " Layer (type)                Output Shape              Param #   \n",
      "=================================================================\n",
      " lstm (LSTM)                 (None, 200)               161600    \n",
      "                                                                 \n",
      " dense (Dense)               (None, 1)                 201       \n",
      "                                                                 \n",
      "=================================================================\n",
      "Total params: 161,801\n",
      "Trainable params: 161,801\n",
      "Non-trainable params: 0\n",
      "_________________________________________________________________\n"
     ]
    }
   ],
   "source": [
    "from keras.preprocessing.sequence import TimeseriesGenerator\n",
    "\n",
    "n_input = 12\n",
    "n_features= 1\n",
    "generator = TimeseriesGenerator(scaled_train_data, scaled_train_data, length=n_input, batch_size=1)\n",
    "from keras.models import Sequential\n",
    "from keras.layers import Dense\n",
    "from keras.layers import LSTM\n",
    "\n",
    "lstm_model = Sequential()\n",
    "lstm_model.add(LSTM(200, activation='relu', input_shape=(n_input, n_features)))\n",
    "lstm_model.add(Dense(1))\n",
    "lstm_model.compile(optimizer='adam', loss='mse')\n",
    "\n",
    "lstm_model.summary()"
   ]
  },
  {
   "cell_type": "code",
   "execution_count": 38,
   "id": "b3067e82",
   "metadata": {},
   "outputs": [
    {
     "name": "stdout",
     "output_type": "stream",
     "text": [
      "Epoch 1/20\n"
     ]
    },
    {
     "name": "stderr",
     "output_type": "stream",
     "text": [
      "<ipython-input-38-dcd31fc91329>:1: UserWarning: `Model.fit_generator` is deprecated and will be removed in a future version. Please use `Model.fit`, which supports generators.\n",
      "  lstm_model.fit_generator(generator,epochs=20)\n"
     ]
    },
    {
     "name": "stdout",
     "output_type": "stream",
     "text": [
      "90/90 [==============================] - 4s 10ms/step - loss: 0.0131\n",
      "Epoch 2/20\n",
      "90/90 [==============================] - 1s 10ms/step - loss: 0.0100\n",
      "Epoch 3/20\n",
      "90/90 [==============================] - 1s 11ms/step - loss: 0.0091\n",
      "Epoch 4/20\n",
      "90/90 [==============================] - 1s 10ms/step - loss: 0.0095\n",
      "Epoch 5/20\n",
      "90/90 [==============================] - 1s 10ms/step - loss: 0.0098\n",
      "Epoch 6/20\n",
      "90/90 [==============================] - 1s 10ms/step - loss: 0.0100\n",
      "Epoch 7/20\n",
      "90/90 [==============================] - 1s 10ms/step - loss: 0.0090\n",
      "Epoch 8/20\n",
      "90/90 [==============================] - 1s 9ms/step - loss: 0.0090\n",
      "Epoch 9/20\n",
      "90/90 [==============================] - 1s 9ms/step - loss: 0.0087\n",
      "Epoch 10/20\n",
      "90/90 [==============================] - 1s 8ms/step - loss: 0.0084\n",
      "Epoch 11/20\n",
      "90/90 [==============================] - 1s 9ms/step - loss: 0.0089\n",
      "Epoch 12/20\n",
      "90/90 [==============================] - 1s 7ms/step - loss: 0.0087\n",
      "Epoch 13/20\n",
      "90/90 [==============================] - 1s 7ms/step - loss: 0.0092\n",
      "Epoch 14/20\n",
      "90/90 [==============================] - 1s 8ms/step - loss: 0.0088\n",
      "Epoch 15/20\n",
      "90/90 [==============================] - 1s 10ms/step - loss: 0.0088\n",
      "Epoch 16/20\n",
      "90/90 [==============================] - 1s 10ms/step - loss: 0.0089\n",
      "Epoch 17/20\n",
      "90/90 [==============================] - 1s 10ms/step - loss: 0.0087\n",
      "Epoch 18/20\n",
      "90/90 [==============================] - 1s 10ms/step - loss: 0.0092\n",
      "Epoch 19/20\n",
      "90/90 [==============================] - 1s 10ms/step - loss: 0.0092\n",
      "Epoch 20/20\n",
      "90/90 [==============================] - 1s 10ms/step - loss: 0.0086\n"
     ]
    },
    {
     "data": {
      "text/plain": [
       "<keras.callbacks.History at 0x20e538d5310>"
      ]
     },
     "execution_count": 38,
     "metadata": {},
     "output_type": "execute_result"
    }
   ],
   "source": [
    "lstm_model.fit_generator(generator,epochs=20)"
   ]
  },
  {
   "cell_type": "code",
   "execution_count": 39,
   "id": "67928d9b",
   "metadata": {},
   "outputs": [
    {
     "data": {
      "image/png": "[encoded data removed]",
      "text/plain": [
       "<Figure size 864x288 with 1 Axes>"
      ]
     },
     "metadata": {
      "needs_background": "light"
     },
     "output_type": "display_data"
    }
   ],
   "source": [
    "losses_lstm = lstm_model.history.history['loss']\n",
    "plt.figure(figsize=(12,4))\n",
    "plt.xlabel(\"Epochs\")\n",
    "plt.ylabel(\"Loss\")\n",
    "plt.xticks(np.arange(0,21,1))\n",
    "plt.plot(range(len(losses_lstm)),losses_lstm);"
   ]
  },
  {
   "cell_type": "code",
   "execution_count": null,
   "id": "7e70fda7",
   "metadata": {},
   "outputs": [],
   "source": [
    "# Testando o modelo LSTM"
   ]
  },
  {
   "cell_type": "code",
   "execution_count": 40,
   "id": "a1dcbe6e",
   "metadata": {},
   "outputs": [
    {
     "name": "stdout",
     "output_type": "stream",
     "text": [
      "1/1 [==============================] - 0s 449ms/step\n",
      "1/1 [==============================] - 0s 39ms/step\n",
      "1/1 [==============================] - 0s 34ms/step\n",
      "1/1 [==============================] - 0s 37ms/step\n",
      "1/1 [==============================] - 0s 34ms/step\n",
      "1/1 [==============================] - 0s 39ms/step\n",
      "1/1 [==============================] - 0s 31ms/step\n",
      "1/1 [==============================] - 0s 41ms/step\n",
      "1/1 [==============================] - 0s 33ms/step\n",
      "1/1 [==============================] - 0s 37ms/step\n",
      "1/1 [==============================] - 0s 41ms/step\n",
      "1/1 [==============================] - 0s 37ms/step\n",
      "1/1 [==============================] - 0s 46ms/step\n",
      "1/1 [==============================] - 0s 37ms/step\n",
      "1/1 [==============================] - 0s 44ms/step\n",
      "1/1 [==============================] - 0s 35ms/step\n",
      "1/1 [==============================] - 0s 36ms/step\n",
      "1/1 [==============================] - 0s 34ms/step\n",
      "1/1 [==============================] - 0s 32ms/step\n",
      "1/1 [==============================] - 0s 25ms/step\n",
      "1/1 [==============================] - 0s 40ms/step\n",
      "1/1 [==============================] - 0s 43ms/step\n",
      "1/1 [==============================] - 0s 37ms/step\n",
      "1/1 [==============================] - 0s 31ms/step\n"
     ]
    }
   ],
   "source": [
    "lstm_predictions_scaled = list()\n",
    "\n",
    "batch = scaled_train_data[-n_input:]\n",
    "current_batch = batch.reshape((1, n_input, n_features))\n",
    "\n",
    "for i in range(len(test_data)):   \n",
    "    lstm_pred = lstm_model.predict(current_batch)[0]\n",
    "    lstm_predictions_scaled.append(lstm_pred) \n",
    "    current_batch = np.append(current_batch[:,1:,:],[[lstm_pred]],axis=1)"
   ]
  },
  {
   "cell_type": "code",
   "execution_count": 41,
   "id": "a3dabd0d",
   "metadata": {},
   "outputs": [
    {
     "data": {
      "text/plain": [
       "[array([0.139476], dtype=float32),\n",
       " array([0.14879768], dtype=float32),\n",
       " array([0.15802202], dtype=float32),\n",
       " array([0.16697112], dtype=float32),\n",
       " array([0.1756328], dtype=float32),\n",
       " array([0.18392141], dtype=float32),\n",
       " array([0.19172573], dtype=float32),\n",
       " array([0.19893901], dtype=float32),\n",
       " array([0.20544694], dtype=float32),\n",
       " array([0.21151316], dtype=float32),\n",
       " array([0.21693884], dtype=float32),\n",
       " array([0.22125147], dtype=float32),\n",
       " array([0.22505999], dtype=float32),\n",
       " array([0.22805583], dtype=float32),\n",
       " array([0.23044105], dtype=float32),\n",
       " array([0.23241474], dtype=float32),\n",
       " array([0.23406239], dtype=float32),\n",
       " array([0.23543447], dtype=float32),\n",
       " array([0.23657319], dtype=float32),\n",
       " array([0.23751535], dtype=float32),\n",
       " array([0.23829545], dtype=float32),\n",
       " array([0.2389399], dtype=float32),\n",
       " array([0.23947163], dtype=float32),\n",
       " array([0.23991142], dtype=float32)]"
      ]
     },
     "execution_count": 41,
     "metadata": {},
     "output_type": "execute_result"
    }
   ],
   "source": [
    "lstm_predictions_scaled"
   ]
  },
  {
   "cell_type": "code",
   "execution_count": 79,
   "id": "9961e77a",
   "metadata": {},
   "outputs": [],
   "source": [
    "lstm_predictions = scaler.inverse_transform(lstm_predictions_scaled)\n",
    "\n",
    "list_tuple_LSTM = lstm_predictions.tolist()\n",
    "list_LSTM=[]\n",
    "for i in list_tuple_LSTM:\n",
    "    list_LSTM.append(i[0])\n",
    "    \n",
    "y_LSTM = pd.Series(list_LSTM)\n",
    "\n",
    "# Inserindo os dados da predição do modelo LSTM na tabela de resultado\n",
    "\n",
    "df_test_results.insert(2, 'LSTM', y_LSTM.values)\n",
    "df_test_results.head()\n",
    "\n",
    "# Exportação da tabela de resultados para o formato excel\n",
    "\n",
    "df_test_results.to_excel(\"output.xlsx\")"
   ]
  },
  {
   "cell_type": "code",
   "execution_count": 43,
   "id": "60dc5415",
   "metadata": {},
   "outputs": [],
   "source": [
    "# pip install pydot"
   ]
  },
  {
   "cell_type": "code",
   "execution_count": 44,
   "id": "da0b64b6",
   "metadata": {},
   "outputs": [
    {
     "data": {
      "image/png": "[encoded data removed]",
      "text/plain": [
       "<IPython.core.display.Image object>"
      ]
     },
     "execution_count": 44,
     "metadata": {},
     "output_type": "execute_result"
    }
   ],
   "source": [
    "from keras.utils.vis_utils import plot_model\n",
    "plot_model(lstm_model, to_file='model_plot.png', show_shapes=True, show_layer_names=True)"
   ]
  },
  {
   "cell_type": "code",
   "execution_count": 45,
   "id": "bb4d9b5c",
   "metadata": {},
   "outputs": [],
   "source": [
    "# Avaliação de Desempenho do Modelo LSTM"
   ]
  },
  {
   "cell_type": "code",
   "execution_count": 80,
   "id": "2424c91c",
   "metadata": {},
   "outputs": [
    {
     "name": "stdout",
     "output_type": "stream",
     "text": [
      "Mean absolute percentage error - mape: 5.775935425843166\n",
      "Mean absolute error - mae: 0.1791587740610043\n",
      "Mean percentage error - mpe: 5.740485594590094\n",
      "Root mean square error - rmse: 0.2591261815100069\n",
      "Correlation coeficient: -0.5149879868084666\n"
     ]
    }
   ],
   "source": [
    "mape = np.mean(np.abs(y_LSTM.values - y_true)/np.abs(y_true))\n",
    "mae = np.mean(np.abs(y_LSTM.values - y_true))\n",
    "mpe = np.mean((y_LSTM.values - y_true)/y_true)\n",
    "rmse = np.mean((y_LSTM.values - y_true)**2)**.5\n",
    "corr = np.corrcoef(y_LSTM.values, y_true)[0,1]\n",
    "\n",
    "print('Mean absolute percentage error - mape:', mape)\n",
    "print('Mean absolute error - mae:', mae)\n",
    "print('Mean percentage error - mpe:', mpe)\n",
    "print('Root mean square error - rmse:', rmse)\n",
    "print('Correlation coeficient:', corr)"
   ]
  }
 ],
 "metadata": {
  "kernelspec": {
   "display_name": "Python 3",
   "language": "python",
   "name": "python3"
  },
  "language_info": {
   "codemirror_mode": {
    "name": "ipython",
    "version": 3
   },
   "file_extension": ".py",
   "mimetype": "text/x-python",
   "name": "python",
   "nbconvert_exporter": "python",
   "pygments_lexer": "ipython3",
   "version": "3.8.8"
  }
 },
 "nbformat": 4,
 "nbformat_minor": 5
}
